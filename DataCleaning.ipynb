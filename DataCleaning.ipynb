{
 "cells": [
  {
   "cell_type": "code",
   "execution_count": 1,
   "metadata": {},
   "outputs": [],
   "source": [
    "import pyspark as ps\n",
    "import json\n",
    "import datetime\n",
    "import numpy as np\n",
    "from pyspark.sql.types import *"
   ]
  },
  {
   "cell_type": "code",
   "execution_count": 2,
   "metadata": {},
   "outputs": [],
   "source": [
    "spark = (ps.sql.SparkSession.builder \n",
    "        .master(\"local[4]\") \n",
    "        .appName(\"sparkSQL exercise\") \n",
    "        .getOrCreate()\n",
    "        )\n",
    "sc = spark.sparkContext"
   ]
  },
  {
   "cell_type": "code",
   "execution_count": 3,
   "metadata": {},
   "outputs": [],
   "source": [
    "def convert_to_dict(row):\n",
    "    try:\n",
    "        return json.loads(row)\n",
    "    except:\n",
    "        return None\n",
    "\n",
    "def parse_tweet(tweet_dict):\n",
    "\n",
    "    create_date = datetime.datetime.strptime(tweet_dict['created_at'], '%a %b %d %H:%M:%S %z %Y')\n",
    "    text = tweet_dict['text']\n",
    "    user_id = int(tweet_dict['user']['id'])\n",
    "    followers = int(tweet_dict['user']['followers_count'])\n",
    "    verified = bool(tweet_dict['user']['verified'])\n",
    "    place_type = tweet_dict['place']['place_type']\n",
    "    place_name = tweet_dict['place']['name']\n",
    "    place_full_name = tweet_dict['place']['full_name']\n",
    "    country_code = tweet_dict['place']['country_code']\n",
    "    country = tweet_dict['place']['country']\n",
    "    retweets = int(tweet_dict['retweet_count'])\n",
    "    favorites = int(tweet_dict['favorite_count'])\n",
    "    lang = tweet_dict['lang']\n",
    "    \n",
    "    return (user_id, followers, verified, text,\n",
    "            create_date.year, create_date.month,\n",
    "            create_date.day, create_date.hour,\n",
    "            create_date.minute, retweets, \n",
    "            favorites, lang, place_type, \n",
    "            place_name, place_full_name, country_code, country)\n",
    "    "
   ]
  },
  {
   "cell_type": "code",
   "execution_count": 4,
   "metadata": {},
   "outputs": [],
   "source": [
    "rdd = sc.textFile('data/french_tweets.json')"
   ]
  },
  {
   "cell_type": "code",
   "execution_count": 5,
   "metadata": {},
   "outputs": [],
   "source": [
    "filtered_rdd = rdd.map(convert_to_dict).map(parse_tweet)"
   ]
  },
  {
   "cell_type": "code",
   "execution_count": 6,
   "metadata": {},
   "outputs": [
    {
     "data": {
      "text/plain": [
       "[(3137428743,\n",
       "  318,\n",
       "  False,\n",
       "  'Je comprends pas trop la fin de 13 reasons why 😓',\n",
       "  2017,\n",
       "  4,\n",
       "  26,\n",
       "  13,\n",
       "  30,\n",
       "  0,\n",
       "  0,\n",
       "  'fr',\n",
       "  'city',\n",
       "  'Dozulé',\n",
       "  'Dozulé, France',\n",
       "  'FR',\n",
       "  'France')]"
      ]
     },
     "execution_count": 6,
     "metadata": {},
     "output_type": "execute_result"
    }
   ],
   "source": [
    "filtered_rdd.take(1)"
   ]
  },
  {
   "cell_type": "code",
   "execution_count": 7,
   "metadata": {},
   "outputs": [],
   "source": [
    "schema = StructType([\n",
    "    StructField('user_id', StringType(), True),\n",
    "    StructField('followers', IntegerType(), True),\n",
    "    StructField('verified', BooleanType(), True),\n",
    "    StructField('text', StringType(), True),\n",
    "    StructField('year', IntegerType(), True),\n",
    "    StructField('month', IntegerType(), True),\n",
    "    StructField('day', IntegerType(), True),\n",
    "    StructField('hour', IntegerType(), True),\n",
    "    StructField('minute', IntegerType(), True),\n",
    "    StructField('retweets', IntegerType(), True),\n",
    "    StructField('favorites', IntegerType(), True),\n",
    "    StructField('lang', StringType(), True),\n",
    "    StructField('place_type', StringType(), True),\n",
    "    StructField('place_name', StringType(), True),\n",
    "    StructField('place_full_name', StringType(), True),\n",
    "    StructField('country_code', StringType(), True),\n",
    "    StructField('country', StringType(), True),\n",
    "])"
   ]
  },
  {
   "cell_type": "markdown",
   "metadata": {},
   "source": [
    "user_id -> int \n",
    "followers -> int\n",
    "verified -> bool\n",
    "text -> string\n",
    "create_date.year -> int, \n",
    "create_date.month -> int,\n",
    "create_date.day -> int, \n",
    "create_date.hour -> int,\n",
    "create_date.minute -> int,\n",
    "retweets, \n",
    "favorites, \n",
    "lang, \n",
    "place_type, \n",
    "place_name, \n",
    "place_full_name, \n",
    "country_code, country,\n"
   ]
  },
  {
   "cell_type": "code",
   "execution_count": 8,
   "metadata": {},
   "outputs": [],
   "source": [
    "filtered_df = spark.createDataFrame(filtered_rdd, schema)"
   ]
  },
  {
   "cell_type": "code",
   "execution_count": 9,
   "metadata": {},
   "outputs": [
    {
     "name": "stdout",
     "output_type": "stream",
     "text": [
      "root\n",
      " |-- user_id: string (nullable = true)\n",
      " |-- followers: integer (nullable = true)\n",
      " |-- verified: boolean (nullable = true)\n",
      " |-- text: string (nullable = true)\n",
      " |-- year: integer (nullable = true)\n",
      " |-- month: integer (nullable = true)\n",
      " |-- day: integer (nullable = true)\n",
      " |-- hour: integer (nullable = true)\n",
      " |-- minute: integer (nullable = true)\n",
      " |-- retweets: integer (nullable = true)\n",
      " |-- favorites: integer (nullable = true)\n",
      " |-- lang: string (nullable = true)\n",
      " |-- place_type: string (nullable = true)\n",
      " |-- place_name: string (nullable = true)\n",
      " |-- place_full_name: string (nullable = true)\n",
      " |-- country_code: string (nullable = true)\n",
      " |-- country: string (nullable = true)\n",
      "\n"
     ]
    }
   ],
   "source": [
    "filtered_df.printSchema()"
   ]
  },
  {
   "cell_type": "code",
   "execution_count": 10,
   "metadata": {},
   "outputs": [
    {
     "name": "stdout",
     "output_type": "stream",
     "text": [
      "+------------------+---------+--------+--------------------+----+-----+---+----+------+--------+---------+----+----------+----------+---------------+------------+-------+\n",
      "|           user_id|followers|verified|                text|year|month|day|hour|minute|retweets|favorites|lang|place_type|place_name|place_full_name|country_code|country|\n",
      "+------------------+---------+--------+--------------------+----+-----+---+----+------+--------+---------+----+----------+----------+---------------+------------+-------+\n",
      "|        3137428743|      318|   false|Je comprends pas ...|2017|    4| 26|  13|    30|       0|        0|  fr|      city|    Dozulé| Dozulé, France|          FR| France|\n",
      "|        2586505687|      173|   false|@julesbl99 travai...|2017|    4| 26|  13|    30|       0|        0|  fr|      city|   Orvault|Orvault, France|          FR| France|\n",
      "|805805743316357120|        5|   false|@lecho_fr @lasauc...|2017|    4| 26|  13|    30|       0|        0|  fr|      city|      Lucé|   Lucé, France|          FR| France|\n",
      "|         335930062|      197|   false|362 jours par an ...|2017|    4| 26|  13|    30|       0|        0|  fr|      city|      Lyon|   Lyon, France|          FR| France|\n",
      "|        1254136784|      102|   false|@julia71903850 От...|2017|    4| 26|  13|    30|       0|        0|  ru|      city|       Huy|  Huy, Belgique|          BE| België|\n",
      "+------------------+---------+--------+--------------------+----+-----+---+----+------+--------+---------+----+----------+----------+---------------+------------+-------+\n",
      "only showing top 5 rows\n",
      "\n"
     ]
    }
   ],
   "source": [
    "filtered_df.show(5)"
   ]
  },
  {
   "cell_type": "code",
   "execution_count": null,
   "metadata": {},
   "outputs": [],
   "source": []
  }
 ],
 "metadata": {
  "kernelspec": {
   "display_name": "Python 3",
   "language": "python",
   "name": "python3"
  },
  "language_info": {
   "codemirror_mode": {
    "name": "ipython",
    "version": 3
   },
   "file_extension": ".py",
   "mimetype": "text/x-python",
   "name": "python",
   "nbconvert_exporter": "python",
   "pygments_lexer": "ipython3",
   "version": "3.8.3"
  }
 },
 "nbformat": 4,
 "nbformat_minor": 4
}
