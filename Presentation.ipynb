{
 "cells": [
  {
   "cell_type": "code",
   "execution_count": 1,
   "metadata": {},
   "outputs": [],
   "source": [
    "%matplotlib inline\n",
    "import pyspark as ps\n",
    "import json\n",
    "import datetime\n",
    "import numpy as np\n",
    "import pandas as pd\n",
    "from pyspark.sql.types import *\n",
    "from DataFrame import TweetsDataFrame\n",
    "import matplotlib.pyplot as plt\n",
    "\n",
    "plt.style.use('ggplot')\n"
   ]
  },
  {
   "cell_type": "code",
   "execution_count": null,
   "metadata": {},
   "outputs": [],
   "source": [
    "spark = (ps.sql.SparkSession.builder \n",
    "        .master(\"local[4]\") \n",
    "        .appName(\"sparkSQL exercise\") \n",
    "        .getOrCreate())\n",
    "\n",
    "sc = spark.sparkContext\n",
    "        "
   ]
  },
  {
   "cell_type": "code",
   "execution_count": 3,
   "metadata": {},
   "outputs": [],
   "source": [
    "df = TweetsDataFrame(spark, sc)"
   ]
  },
  {
   "cell_type": "code",
   "execution_count": 4,
   "metadata": {},
   "outputs": [
    {
     "name": "stdout",
     "output_type": "stream",
     "text": [
      "root\n",
      " |-- user_id: string (nullable = true)\n",
      " |-- followers: integer (nullable = true)\n",
      " |-- verified: boolean (nullable = true)\n",
      " |-- text: string (nullable = true)\n",
      " |-- year: integer (nullable = true)\n",
      " |-- month: integer (nullable = true)\n",
      " |-- day: integer (nullable = true)\n",
      " |-- hour: integer (nullable = true)\n",
      " |-- minute: integer (nullable = true)\n",
      " |-- retweets: integer (nullable = true)\n",
      " |-- favorites: integer (nullable = true)\n",
      " |-- lang: string (nullable = true)\n",
      " |-- place_type: string (nullable = true)\n",
      " |-- place_name: string (nullable = true)\n",
      " |-- place_full_name: string (nullable = true)\n",
      " |-- country_code: string (nullable = true)\n",
      " |-- country: string (nullable = true)\n",
      "\n"
     ]
    }
   ],
   "source": [
    "df.tweets.printSchema()"
   ]
  },
  {
   "cell_type": "code",
   "execution_count": 6,
   "metadata": {},
   "outputs": [],
   "source": [
    "df.tweets.createOrReplaceTempView('tweets')"
   ]
  },
  {
   "cell_type": "markdown",
   "metadata": {},
   "source": [
    "## Rafi"
   ]
  },
  {
   "cell_type": "code",
   "execution_count": 7,
   "metadata": {},
   "outputs": [
    {
     "name": "stdout",
     "output_type": "stream",
     "text": [
      "+------------------+------------+---+----+--------------------+--------------------+\n",
      "|           user_id|country_code|day|hour|          place_name|                text|\n",
      "+------------------+------------+---+----+--------------------+--------------------+\n",
      "|         273524713|          FR| 26|  13|    Gréoux-les-Bains|La macronie En Ma...|\n",
      "|839403756768866304|          FR| 26|  13|            Toulouse|Choisir entre le ...|\n",
      "|         472412133|          FR| 26|  13|Taisnières-en-Thi...|@ArtCoutelier ba ...|\n",
      "|753617799671582720|          FR| 26|  13|          Genouillac|Sans déconner, ma...|\n",
      "|         239165579|          FR| 26|  13|               Paris|@LeaFrct @Dormez_...|\n",
      "|        3008275655|          FR| 26|  13|               Paris|@DELARUEEm @Miche...|\n",
      "|         178877106|          FR| 26|  14|              Rennes|ptdr j'ai unfollo...|\n",
      "|        3291475995|          FR| 26|  14|              Athose|@MathiasPangeois ...|\n",
      "|          14118922|          FR| 26|  14|              Rennes|@MarylinMaeso @En...|\n",
      "|        4704122832|          FR| 26|  14|              France|@bruno_salomon @p...|\n",
      "|        3291475995|          FR| 26|  14|              Athose|@MathiasPangeois ...|\n",
      "|         366063458|          FR| 26|  14|            Anguerny|#CGT #CFDT font b...|\n",
      "|        1328702478|          FR| 26|  14|               Paris|#macron : «Interd...|\n",
      "|        3291475995|          FR| 26|  14|              Athose|@stefappriou @Syl...|\n",
      "|        3291475995|          FR| 26|  14|              Athose|@stefappriou @Syl...|\n",
      "|        3291475995|          FR| 26|  14|              Athose|@RabierJF @Emmanu...|\n",
      "|         891938431|          FR| 26|  14| La Houssaye-en-Brie|@AxelBenhy @joelc...|\n",
      "|          47901510|          FR| 26|  14|               Paris|Message de Macron...|\n",
      "|        3291475995|          FR| 26|  14|              Athose|@MarieMarysienka ...|\n",
      "|        4704122832|          FR| 26|  14|              France|@etienneliebig Ca...|\n",
      "+------------------+------------+---+----+--------------------+--------------------+\n",
      "only showing top 20 rows\n",
      "\n"
     ]
    }
   ],
   "source": [
    "query = '''\n",
    "        SELECT user_id, country_code, day, hour, place_name, text\n",
    "        FROM tweets\n",
    "        WHERE text LIKE '%macron%' OR text LIKE '%le pen%' \n",
    "        AND country_code = 'FR'\n",
    "        \n",
    "'''\n",
    "\n",
    "result = spark.sql(query)\n",
    "result.show()"
   ]
  },
  {
   "cell_type": "code",
   "execution_count": 8,
   "metadata": {},
   "outputs": [
    {
     "data": {
      "text/html": [
       "<div>\n",
       "<style scoped>\n",
       "    .dataframe tbody tr th:only-of-type {\n",
       "        vertical-align: middle;\n",
       "    }\n",
       "\n",
       "    .dataframe tbody tr th {\n",
       "        vertical-align: top;\n",
       "    }\n",
       "\n",
       "    .dataframe thead th {\n",
       "        text-align: right;\n",
       "    }\n",
       "</style>\n",
       "<table border=\"1\" class=\"dataframe\">\n",
       "  <thead>\n",
       "    <tr style=\"text-align: right;\">\n",
       "      <th></th>\n",
       "      <th>user_id</th>\n",
       "      <th>country_code</th>\n",
       "      <th>day</th>\n",
       "      <th>hour</th>\n",
       "      <th>place_name</th>\n",
       "      <th>text</th>\n",
       "    </tr>\n",
       "  </thead>\n",
       "  <tbody>\n",
       "    <tr>\n",
       "      <th>0</th>\n",
       "      <td>273524713</td>\n",
       "      <td>FR</td>\n",
       "      <td>26</td>\n",
       "      <td>13</td>\n",
       "      <td>Gréoux-les-Bains</td>\n",
       "      <td>La macronie En Marche ! commence déjà à s'écha...</td>\n",
       "    </tr>\n",
       "    <tr>\n",
       "      <th>1</th>\n",
       "      <td>839403756768866304</td>\n",
       "      <td>FR</td>\n",
       "      <td>26</td>\n",
       "      <td>13</td>\n",
       "      <td>Toulouse</td>\n",
       "      <td>Choisir entre le coup de com.de marine ou le c...</td>\n",
       "    </tr>\n",
       "    <tr>\n",
       "      <th>2</th>\n",
       "      <td>472412133</td>\n",
       "      <td>FR</td>\n",
       "      <td>26</td>\n",
       "      <td>13</td>\n",
       "      <td>Taisnières-en-Thiérache</td>\n",
       "      <td>@ArtCoutelier ba arthur tu aimes le pen c'est ...</td>\n",
       "    </tr>\n",
       "    <tr>\n",
       "      <th>3</th>\n",
       "      <td>753617799671582720</td>\n",
       "      <td>FR</td>\n",
       "      <td>26</td>\n",
       "      <td>13</td>\n",
       "      <td>Genouillac</td>\n",
       "      <td>Sans déconner, ma meuf m'appelle pendant qu'el...</td>\n",
       "    </tr>\n",
       "    <tr>\n",
       "      <th>4</th>\n",
       "      <td>239165579</td>\n",
       "      <td>FR</td>\n",
       "      <td>26</td>\n",
       "      <td>13</td>\n",
       "      <td>Paris</td>\n",
       "      <td>@LeaFrct @Dormez_Dormez Piégé ! macron n'arriv...</td>\n",
       "    </tr>\n",
       "    <tr>\n",
       "      <th>...</th>\n",
       "      <td>...</td>\n",
       "      <td>...</td>\n",
       "      <td>...</td>\n",
       "      <td>...</td>\n",
       "      <td>...</td>\n",
       "      <td>...</td>\n",
       "    </tr>\n",
       "    <tr>\n",
       "      <th>1079</th>\n",
       "      <td>863151956</td>\n",
       "      <td>FR</td>\n",
       "      <td>29</td>\n",
       "      <td>0</td>\n",
       "      <td>Paris</td>\n",
       "      <td>RV place de la bataille de stalingrad à 11h #L...</td>\n",
       "    </tr>\n",
       "    <tr>\n",
       "      <th>1080</th>\n",
       "      <td>1092698880</td>\n",
       "      <td>FR</td>\n",
       "      <td>29</td>\n",
       "      <td>3</td>\n",
       "      <td>Paris</td>\n",
       "      <td>@nomacron Ça, c'est une vieillerie, que vous r...</td>\n",
       "    </tr>\n",
       "    <tr>\n",
       "      <th>1081</th>\n",
       "      <td>1102845120</td>\n",
       "      <td>FR</td>\n",
       "      <td>29</td>\n",
       "      <td>3</td>\n",
       "      <td>Gainneville</td>\n",
       "      <td>@lordmahammer @LiberteRale et avec macron et s...</td>\n",
       "    </tr>\n",
       "    <tr>\n",
       "      <th>1082</th>\n",
       "      <td>492934020</td>\n",
       "      <td>FR</td>\n",
       "      <td>29</td>\n",
       "      <td>3</td>\n",
       "      <td>Clapiers</td>\n",
       "      <td>Et vous n'avez pas pu dire non à macron qui a ...</td>\n",
       "    </tr>\n",
       "    <tr>\n",
       "      <th>1083</th>\n",
       "      <td>3336744245</td>\n",
       "      <td>FR</td>\n",
       "      <td>29</td>\n",
       "      <td>4</td>\n",
       "      <td>L'Union</td>\n",
       "      <td>@EmmanuelMacron \\nNe pas soutenir macron est u...</td>\n",
       "    </tr>\n",
       "  </tbody>\n",
       "</table>\n",
       "<p>1084 rows × 6 columns</p>\n",
       "</div>"
      ],
      "text/plain": [
       "                 user_id country_code  day  hour               place_name  \\\n",
       "0              273524713           FR   26    13         Gréoux-les-Bains   \n",
       "1     839403756768866304           FR   26    13                 Toulouse   \n",
       "2              472412133           FR   26    13  Taisnières-en-Thiérache   \n",
       "3     753617799671582720           FR   26    13               Genouillac   \n",
       "4              239165579           FR   26    13                    Paris   \n",
       "...                  ...          ...  ...   ...                      ...   \n",
       "1079           863151956           FR   29     0                    Paris   \n",
       "1080          1092698880           FR   29     3                    Paris   \n",
       "1081          1102845120           FR   29     3              Gainneville   \n",
       "1082           492934020           FR   29     3                 Clapiers   \n",
       "1083          3336744245           FR   29     4                  L'Union   \n",
       "\n",
       "                                                   text  \n",
       "0     La macronie En Marche ! commence déjà à s'écha...  \n",
       "1     Choisir entre le coup de com.de marine ou le c...  \n",
       "2     @ArtCoutelier ba arthur tu aimes le pen c'est ...  \n",
       "3     Sans déconner, ma meuf m'appelle pendant qu'el...  \n",
       "4     @LeaFrct @Dormez_Dormez Piégé ! macron n'arriv...  \n",
       "...                                                 ...  \n",
       "1079  RV place de la bataille de stalingrad à 11h #L...  \n",
       "1080  @nomacron Ça, c'est une vieillerie, que vous r...  \n",
       "1081  @lordmahammer @LiberteRale et avec macron et s...  \n",
       "1082  Et vous n'avez pas pu dire non à macron qui a ...  \n",
       "1083  @EmmanuelMacron \\nNe pas soutenir macron est u...  \n",
       "\n",
       "[1084 rows x 6 columns]"
      ]
     },
     "execution_count": 8,
     "metadata": {},
     "output_type": "execute_result"
    }
   ],
   "source": [
    "pd_df = result.toPandas()\n",
    "pd_df"
   ]
  },
  {
   "cell_type": "code",
   "execution_count": 9,
   "metadata": {},
   "outputs": [],
   "source": [
    "pd_df['contains macron'] = pd_df['text'].apply(lambda x: 1 if 'macron' in x else 0)\n",
    "pd_df['contains le pen'] = pd_df['text'].apply(lambda x: 1 if 'le pen' in x else 0)"
   ]
  },
  {
   "cell_type": "code",
   "execution_count": 10,
   "metadata": {},
   "outputs": [],
   "source": [
    "macrons = pd_df.groupby('place_name')['contains macron'].sum()\n",
    "le_pens = pd_df.groupby('place_name')['contains le pen'].sum()"
   ]
  },
  {
   "cell_type": "code",
   "execution_count": 11,
   "metadata": {},
   "outputs": [],
   "source": [
    "new_df = pd.DataFrame()"
   ]
  },
  {
   "cell_type": "code",
   "execution_count": 12,
   "metadata": {},
   "outputs": [],
   "source": [
    "new_df['cities'] = macrons.index\n",
    "new_df['macrons'] = macrons.values\n",
    "new_df['le pens'] = le_pens.values"
   ]
  },
  {
   "cell_type": "code",
   "execution_count": 13,
   "metadata": {},
   "outputs": [],
   "source": [
    "most_tweeted_cities = new_df[(new_df['macrons'] > 2) & (new_df['le pens'] > 2)]"
   ]
  },
  {
   "cell_type": "code",
   "execution_count": 21,
   "metadata": {},
   "outputs": [
    {
     "data": {
      "image/png": "[encoded data removed]",
      "text/plain": [
       "<Figure size 864x432 with 1 Axes>"
      ]
     },
     "metadata": {},
     "output_type": "display_data"
    }
   ],
   "source": [
    "fig, ax = plt.subplots(figsize=(12, 6))\n",
    "ax.bar(most_tweeted_cities['cities'], most_tweeted_cities['macrons'], label='macron', alpha=0.5);\n",
    "ax.bar(most_tweeted_cities['cities'], most_tweeted_cities['le pens'], label='le pen', alpha=0.5);\n",
    "ax.legend()\n",
    "ax.set_ylabel(\"Number of Mentions\");\n"
   ]
  },
  {
   "cell_type": "markdown",
   "metadata": {},
   "source": [
    "## Shankar"
   ]
  },
  {
   "cell_type": "code",
   "execution_count": 15,
   "metadata": {},
   "outputs": [],
   "source": [
    "query = '''SELECT user_id, followers, text\n",
    "           FROM tweets\n",
    "           ORDER BY followers DESC\n",
    "            '''\n",
    "df_new=spark.sql(query).toPandas()"
   ]
  },
  {
   "cell_type": "code",
   "execution_count": 16,
   "metadata": {},
   "outputs": [
    {
     "data": {
      "text/html": [
       "<div>\n",
       "<style scoped>\n",
       "    .dataframe tbody tr th:only-of-type {\n",
       "        vertical-align: middle;\n",
       "    }\n",
       "\n",
       "    .dataframe tbody tr th {\n",
       "        vertical-align: top;\n",
       "    }\n",
       "\n",
       "    .dataframe thead th {\n",
       "        text-align: right;\n",
       "    }\n",
       "</style>\n",
       "<table border=\"1\" class=\"dataframe\">\n",
       "  <thead>\n",
       "    <tr style=\"text-align: right;\">\n",
       "      <th></th>\n",
       "      <th>user_id</th>\n",
       "      <th>followers</th>\n",
       "      <th>text</th>\n",
       "    </tr>\n",
       "  </thead>\n",
       "  <tbody>\n",
       "    <tr>\n",
       "      <th>0</th>\n",
       "      <td>5520952</td>\n",
       "      <td>11782543</td>\n",
       "      <td>Greve Geral é legitima, diz Ministerio Publico...</td>\n",
       "    </tr>\n",
       "    <tr>\n",
       "      <th>1</th>\n",
       "      <td>5520952</td>\n",
       "      <td>11782383</td>\n",
       "      <td>Faith means believing the impossible - and the...</td>\n",
       "    </tr>\n",
       "    <tr>\n",
       "      <th>2</th>\n",
       "      <td>5520952</td>\n",
       "      <td>11781465</td>\n",
       "      <td>@raullbenevides sim, fiz a letra e ajudei em g...</td>\n",
       "    </tr>\n",
       "    <tr>\n",
       "      <th>3</th>\n",
       "      <td>5520952</td>\n",
       "      <td>11780912</td>\n",
       "      <td>Don't complain (you are not a victim). But hit...</td>\n",
       "    </tr>\n",
       "    <tr>\n",
       "      <th>4</th>\n",
       "      <td>52422878</td>\n",
       "      <td>5143423</td>\n",
       "      <td>Out of these four -  my favorite Olympic Winte...</td>\n",
       "    </tr>\n",
       "    <tr>\n",
       "      <th>5</th>\n",
       "      <td>52422878</td>\n",
       "      <td>5139044</td>\n",
       "      <td>On this day April 26 Fanny Blankers-Koen was b...</td>\n",
       "    </tr>\n",
       "    <tr>\n",
       "      <th>6</th>\n",
       "      <td>32419107</td>\n",
       "      <td>3626961</td>\n",
       "      <td>@DelHazLou PARFAIT !!!! 🎉👏👏 #MonNomDeSuperstar...</td>\n",
       "    </tr>\n",
       "    <tr>\n",
       "      <th>7</th>\n",
       "      <td>32419107</td>\n",
       "      <td>3626943</td>\n",
       "      <td>Quel est votre nom de superstar #NRJ ??? Dîtes...</td>\n",
       "    </tr>\n",
       "    <tr>\n",
       "      <th>8</th>\n",
       "      <td>32419107</td>\n",
       "      <td>3626786</td>\n",
       "      <td>Sorry hein mais je crois que vos superstars on...</td>\n",
       "    </tr>\n",
       "    <tr>\n",
       "      <th>9</th>\n",
       "      <td>32419107</td>\n",
       "      <td>3626476</td>\n",
       "      <td>@_ClemTotaLmj Y'a moyen d'avoir des brochettes...</td>\n",
       "    </tr>\n",
       "  </tbody>\n",
       "</table>\n",
       "</div>"
      ],
      "text/plain": [
       "    user_id  followers                                               text\n",
       "0   5520952   11782543  Greve Geral é legitima, diz Ministerio Publico...\n",
       "1   5520952   11782383  Faith means believing the impossible - and the...\n",
       "2   5520952   11781465  @raullbenevides sim, fiz a letra e ajudei em g...\n",
       "3   5520952   11780912  Don't complain (you are not a victim). But hit...\n",
       "4  52422878    5143423  Out of these four -  my favorite Olympic Winte...\n",
       "5  52422878    5139044  On this day April 26 Fanny Blankers-Koen was b...\n",
       "6  32419107    3626961  @DelHazLou PARFAIT !!!! 🎉👏👏 #MonNomDeSuperstar...\n",
       "7  32419107    3626943  Quel est votre nom de superstar #NRJ ??? Dîtes...\n",
       "8  32419107    3626786  Sorry hein mais je crois que vos superstars on...\n",
       "9  32419107    3626476  @_ClemTotaLmj Y'a moyen d'avoir des brochettes..."
      ]
     },
     "execution_count": 16,
     "metadata": {},
     "output_type": "execute_result"
    }
   ],
   "source": [
    "df_new.head(10)"
   ]
  },
  {
   "cell_type": "markdown",
   "metadata": {},
   "source": [
    "## Edward"
   ]
  },
  {
   "cell_type": "code",
   "execution_count": 17,
   "metadata": {},
   "outputs": [
    {
     "data": {
      "text/plain": [
       "Text(0, 0.5, 'Number of Tweets')"
      ]
     },
     "execution_count": 17,
     "metadata": {},
     "output_type": "execute_result"
    },
    {
     "data": {
      "image/png": "[encoded data removed]",
      "text/plain": [
       "<Figure size 1152x720 with 1 Axes>"
      ]
     },
     "metadata": {},
     "output_type": "display_data"
    }
   ],
   "source": [
    "pd_df = df.tweets.toPandas()\n",
    "\n",
    "fig, ax = plt.subplots(figsize=(16,10))\n",
    "plt.xticks(rotation='vertical')\n",
    "x = pd_df[pd_df['country'] != 'France']\n",
    "ax.hist(x['country'])\n",
    "ax.set_title(\"Tweets by Country\")\n",
    "ax.set_xlabel(\"Country\")\n",
    "ax.set_ylabel(\"Number of Tweets\")"
   ]
  },
  {
   "cell_type": "code",
   "execution_count": null,
   "metadata": {},
   "outputs": [],
   "source": []
  },
  {
   "cell_type": "code",
   "execution_count": null,
   "metadata": {},
   "outputs": [],
   "source": []
  }
 ],
 "metadata": {
  "kernelspec": {
   "display_name": "Python 3",
   "language": "python",
   "name": "python3"
  },
  "language_info": {
   "codemirror_mode": {
    "name": "ipython",
    "version": 3
   },
   "file_extension": ".py",
   "mimetype": "text/x-python",
   "name": "python",
   "nbconvert_exporter": "python",
   "pygments_lexer": "ipython3",
   "version": "3.8.3"
  }
 },
 "nbformat": 4,
 "nbformat_minor": 4
}
